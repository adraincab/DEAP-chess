{
 "cells": [
  {
   "cell_type": "markdown",
   "metadata": {
    "colab_type": "text",
    "id": "GxGA1SMjVOTm"
   },
   "source": [
    "Solving n-queens Problem using Evolutionary Computation\n",
    "\n",
    "\n",
    "\n",
    "\n"
   ]
  },
  {
   "cell_type": "code",
   "execution_count": 4,
   "metadata": {
    "colab": {},
    "colab_type": "code",
    "id": "Q5i4_SEPiQnp"
   },
   "outputs": [],
   "source": [
    "\n",
    "# Adian Cabreros   \n",
    "\n"
   ]
  },
  {
   "cell_type": "code",
   "execution_count": 3,
   "metadata": {
    "colab": {
     "base_uri": "https://localhost:8080/",
     "height": 139
    },
    "colab_type": "code",
    "id": "l5lLegLCE48I",
    "outputId": "caf22999-66d4-44df-b08b-8a34fed20c31"
   },
   "outputs": [
    {
     "name": "stdout",
     "output_type": "stream",
     "text": [
      "Collecting deapNote: you may need to restart the kernel to use updated packages.\n",
      "  Downloading deap-1.3.1.tar.gz (1.1 MB)\n",
      "Collecting numpy\n",
      "  Downloading numpy-1.18.4-cp38-cp38-win32.whl (10.8 MB)\n",
      "Building wheels for collected packages: deap\n",
      "  Building wheel for deap (setup.py): started\n",
      "  Building wheel for deap (setup.py): finished with status 'done'\n",
      "  Created wheel for deap: filename=deap-1.3.1-py3-none-any.whl size=102109 sha256=e16cad5d257162ba86ae9111ae34934e6dd78f1177bda8cd6be581770e5146e1\n",
      "  Stored in directory: c:\\users\\adrian\\appdata\\local\\pip\\cache\\wheels\\0a\\c1\\7c\\8724cac6aef40f4949ac0355ccc8059bf4feaf2a2ba7cd4b00\n",
      "Successfully built deap\n",
      "Installing collected packages: numpy, deap\n",
      "Successfully installed deap-1.3.1 numpy-1.18.4\n",
      "\n"
     ]
    },
    {
     "name": "stderr",
     "output_type": "stream",
     "text": [
      "WARNING: You are using pip version 20.1; however, version 20.1.1 is available.\n",
      "You should consider upgrading via the 'c:\\users\\adrian\\appdata\\local\\programs\\python\\python38-32\\python.exe -m pip install --upgrade pip' command.\n"
     ]
    }
   ],
   "source": [
    "pip install deap"
   ]
  },
  {
   "cell_type": "markdown",
   "metadata": {
    "colab_type": "text",
    "id": "HibX8kusV5PD"
   },
   "source": [
    "\n",
    "## Part I: Position-index-based board representation"
   ]
  },
  {
   "cell_type": "code",
   "execution_count": 0,
   "metadata": {
    "colab": {},
    "colab_type": "code",
    "id": "LcEVm7paVOTo"
   },
   "outputs": [],
   "source": [
    "import random\n",
    "import numpy as np\n",
    "from deap import algorithms, base, creator, tools\n",
    "\n",
    "creator.create(\"FitnessMin\", base.Fitness, weights=(-1.0,)) # -> Minimum Problem\n",
    "creator.create(\"Individual\", list, fitness=creator.FitnessMin)\n"
   ]
  },
  {
   "cell_type": "code",
   "execution_count": 0,
   "metadata": {
    "colab": {},
    "colab_type": "code",
    "id": "AjYwh9eYVOTt"
   },
   "outputs": [],
   "source": [
    "def create_individual():\n",
    "    return random.sample(range(64), 8)"
   ]
  },
  {
   "cell_type": "code",
   "execution_count": 7,
   "metadata": {
    "colab": {
     "base_uri": "https://localhost:8080/",
     "height": 34
    },
    "colab_type": "code",
    "id": "V3rgKtu_VOTv",
    "outputId": "f292479b-c57e-40d7-8d6e-692420aa1721"
   },
   "outputs": [
    {
     "name": "stdout",
     "output_type": "stream",
     "text": [
      "[55, 62, 36, 33, 28, 6, 34, 48]\n"
     ]
    }
   ],
   "source": [
    "print(create_individual())"
   ]
  },
  {
   "cell_type": "code",
   "execution_count": 0,
   "metadata": {
    "colab": {},
    "colab_type": "code",
    "id": "ekoiWdxDVOTy"
   },
   "outputs": [],
   "source": [
    "def show_grid(board):\n",
    "    \n",
    "    n = [0]*64\n",
    "    for i in board:\n",
    "        n[i] = 1\n",
    "    \n",
    "    \n",
    "    for i in range(8):\n",
    "        for j in range(64):\n",
    "            if j // 8 == i:\n",
    "                if n[j] == 1:\n",
    "                    print('X',end=\"|\")\n",
    "                else:\n",
    "                    print('-',end=\"|\")\n",
    "        print()\n",
    "        print(\"----------------\")\n"
   ]
  },
  {
   "cell_type": "code",
   "execution_count": 0,
   "metadata": {
    "colab": {},
    "colab_type": "code",
    "id": "N8XtgeUKVOT0"
   },
   "outputs": [],
   "source": [
    "toolbox = base.Toolbox()\n",
    "\n",
    "toolbox.register(\"individual\", tools.initIterate, creator.Individual, create_individual)\n",
    "\n",
    "toolbox.register(\"population\", tools.initRepeat, list, toolbox.individual)"
   ]
  },
  {
   "cell_type": "code",
   "execution_count": 10,
   "metadata": {
    "colab": {
     "base_uri": "https://localhost:8080/",
     "height": 34
    },
    "colab_type": "code",
    "id": "YTk0VOT-VOT3",
    "outputId": "3a667e98-1a8a-4b13-a207-9a78ddf9b751"
   },
   "outputs": [
    {
     "name": "stdout",
     "output_type": "stream",
     "text": [
      "[21, 44, 36, 31, 9, 8, 52, 37]\n"
     ]
    }
   ],
   "source": [
    "pop = toolbox.population(n=5)\n",
    "\n",
    "print(pop[0])"
   ]
  },
  {
   "cell_type": "code",
   "execution_count": 11,
   "metadata": {
    "colab": {
     "base_uri": "https://localhost:8080/",
     "height": 289
    },
    "colab_type": "code",
    "id": "letgI4JkVOT6",
    "outputId": "d0ea5f07-346a-4c6d-d47c-1c6b3fdf54e5"
   },
   "outputs": [
    {
     "name": "stdout",
     "output_type": "stream",
     "text": [
      "-|-|-|-|-|-|-|-|\n",
      "----------------\n",
      "X|X|-|-|-|-|-|-|\n",
      "----------------\n",
      "-|-|-|-|-|X|-|-|\n",
      "----------------\n",
      "-|-|-|-|-|-|-|X|\n",
      "----------------\n",
      "-|-|-|-|X|X|-|-|\n",
      "----------------\n",
      "-|-|-|-|X|-|-|-|\n",
      "----------------\n",
      "-|-|-|-|X|-|-|-|\n",
      "----------------\n",
      "-|-|-|-|-|-|-|-|\n",
      "----------------\n"
     ]
    }
   ],
   "source": [
    "show_grid(pop[0])"
   ]
  },
  {
   "cell_type": "markdown",
   "metadata": {
    "colab_type": "text",
    "id": "qzj4Y0L5VOT8"
   },
   "source": []
  },
  {
   "cell_type": "code",
   "execution_count": 0,
   "metadata": {
    "colab": {},
    "colab_type": "code",
    "id": "ZTHRSMRMVOT8"
   },
   "outputs": [],
   "source": [
    "#fitness function\n",
    "def evaFitness(individual):\n",
    "    \n",
    "    conflict = 0\n",
    "    \n",
    "\n",
    "    \n",
    "    for x in range(len(individual)-1):\n",
    "      for y in range(x+1, len(individual) -1):\n",
    "        if(individual[x] != individual[y]):\n",
    "          if(int(individual[x]/8) == int(individual[y]/8)):\n",
    "            conflict += 1\n",
    "          elif(individual[x]%8 == individual[y]%8):\n",
    "            conflict += 1\n",
    "          elif(((int(individual[x]/8) - int((individual[y]/8)))/(individual[x]%8 - individual[y]%8)) == -1):\n",
    "            conflict += 1\n",
    "          elif(((int(individual[x]/8) - int((individual[y]/8)))/(individual[x]%8 - individual[y]%8)) == 1):\n",
    "            conflict += 1\n",
    "    \n",
    "    \n",
    "    \n",
    "    \n",
    "    return (checkDuplicate(individual) + conflict,)\n",
    "    \n",
    "# Calculate the number of queen pairs in the same position for any given board\n",
    "def checkDuplicate(individual):\n",
    "    dup = 0\n",
    "\n",
    "    for i in range(len(individual)):\n",
    "      for j in range(i+1, len(individual)):\n",
    "        if(individual[i]==individual[j]):\n",
    "          dup += 1\n",
    "    \n",
    "    return dup*10\n",
    "    \n",
    "    "
   ]
  },
  {
   "cell_type": "markdown",
   "metadata": {
    "colab_type": "text",
    "id": "tikbcB_kVOT-"
   },
   "source": [
    "### 5 pts:  Evaluate function"
   ]
  },
  {
   "cell_type": "code",
   "execution_count": 0,
   "metadata": {
    "colab": {},
    "colab_type": "code",
    "id": "bMjmesXqVOT_"
   },
   "outputs": [],
   "source": [
    "\n",
    "toolbox.register(\"evaluate\", evaFitness)\n",
    "\n",
    "\n",
    "\n"
   ]
  },
  {
   "cell_type": "code",
   "execution_count": 0,
   "metadata": {
    "colab": {},
    "colab_type": "code",
    "id": "_eDjyzBlVOUB"
   },
   "outputs": [],
   "source": [
    "\n",
    "toolbox.register(\"mate\", tools.cxTwoPoint)\n",
    "\n",
    "toolbox.register(\"mutate\", tools.mutUniformInt, low = 0, up = 63, indpb=0.1)\n",
    "\n",
    "toolbox.register(\"select\", tools.selTournament, tournsize=3)"
   ]
  },
  {
   "cell_type": "code",
   "execution_count": 0,
   "metadata": {
    "colab": {},
    "colab_type": "code",
    "id": "6uej76HoVOUD"
   },
   "outputs": [],
   "source": [
    "stats = tools.Statistics(key=lambda ind: ind.fitness.values)"
   ]
  },
  {
   "cell_type": "code",
   "execution_count": 0,
   "metadata": {
    "colab": {},
    "colab_type": "code",
    "id": "W8cWVXmxVOUH"
   },
   "outputs": [],
   "source": [
    "stats.register(\"avg\", np.mean)\n",
    "stats.register(\"min\", np.min)"
   ]
  },
  {
   "cell_type": "markdown",
   "metadata": {
    "colab_type": "text",
    "id": "OmnhqV_MVOUJ"
   },
   "source": [
    "### create the first generation, the hall of fame, and launch the genetic algorithm: eaSimple().   Run the algorithm for 100 generations. "
   ]
  },
  {
   "cell_type": "code",
   "execution_count": 18,
   "metadata": {
    "colab": {
     "base_uri": "https://localhost:8080/",
     "height": 1000
    },
    "colab_type": "code",
    "id": "SsTaPuPgVOUK",
    "outputId": "27291c9b-d408-43e1-fa4a-5950a8bcb96d"
   },
   "outputs": [
    {
     "name": "stdout",
     "output_type": "stream",
     "text": [
      "gen\tnevals\tavg\tmin\n",
      "0  \t0     \t2.4\t2  \n",
      "1  \t3     \t2.8\t2  \n",
      "2  \t5     \t2.4\t2  \n",
      "3  \t5     \t2.8\t2  \n",
      "4  \t3     \t3  \t2  \n",
      "5  \t4     \t2.8\t2  \n",
      "6  \t2     \t4  \t2  \n",
      "7  \t1     \t2  \t2  \n",
      "8  \t5     \t8  \t2  \n",
      "9  \t4     \t2.8\t2  \n",
      "10 \t5     \t3.8\t2  \n",
      "11 \t4     \t3  \t2  \n",
      "12 \t3     \t2  \t2  \n",
      "13 \t5     \t4.4\t2  \n",
      "14 \t2     \t3  \t2  \n",
      "15 \t0     \t2  \t2  \n",
      "16 \t2     \t2  \t2  \n",
      "17 \t1     \t4  \t2  \n",
      "18 \t3     \t2  \t2  \n",
      "19 \t5     \t2  \t2  \n",
      "20 \t4     \t2  \t2  \n",
      "21 \t4     \t2.4\t2  \n",
      "22 \t3     \t4  \t2  \n",
      "23 \t3     \t3.4\t2  \n",
      "24 \t4     \t4  \t2  \n",
      "25 \t4     \t3.8\t2  \n",
      "26 \t2     \t3  \t2  \n",
      "27 \t3     \t2.4\t2  \n",
      "28 \t3     \t1.8\t1  \n",
      "29 \t4     \t1.4\t1  \n",
      "30 \t5     \t1.2\t1  \n",
      "31 \t3     \t1  \t1  \n",
      "32 \t3     \t1  \t1  \n",
      "33 \t2     \t1  \t1  \n",
      "34 \t4     \t2.2\t1  \n",
      "35 \t2     \t1.4\t1  \n",
      "36 \t3     \t1.6\t1  \n",
      "37 \t3     \t1.6\t1  \n",
      "38 \t4     \t1  \t1  \n",
      "39 \t1     \t1.2\t1  \n",
      "40 \t4     \t2  \t1  \n",
      "41 \t3     \t1  \t1  \n",
      "42 \t3     \t1.4\t1  \n",
      "43 \t2     \t4  \t1  \n",
      "44 \t4     \t1.6\t1  \n",
      "45 \t3     \t2  \t1  \n",
      "46 \t3     \t1  \t1  \n",
      "47 \t4     \t1.8\t1  \n",
      "48 \t3     \t1.2\t1  \n",
      "49 \t3     \t1.8\t1  \n",
      "50 \t5     \t2.2\t1  \n",
      "51 \t5     \t2.6\t1  \n",
      "52 \t4     \t3.6\t1  \n",
      "53 \t5     \t3  \t1  \n",
      "54 \t4     \t3.8\t3  \n",
      "55 \t2     \t3.4\t3  \n",
      "56 \t2     \t3.4\t3  \n",
      "57 \t5     \t6.6\t3  \n",
      "58 \t5     \t5.2\t3  \n",
      "59 \t4     \t3.4\t3  \n",
      "60 \t2     \t3.4\t3  \n",
      "61 \t4     \t4.8\t3  \n",
      "62 \t4     \t5  \t3  \n",
      "63 \t3     \t6  \t3  \n",
      "64 \t4     \t4.2\t3  \n",
      "65 \t5     \t3.4\t3  \n",
      "66 \t3     \t3.4\t3  \n",
      "67 \t3     \t3.8\t3  \n",
      "68 \t5     \t3.8\t3  \n",
      "69 \t4     \t4.8\t3  \n",
      "70 \t4     \t3.6\t3  \n",
      "71 \t2     \t5.6\t3  \n",
      "72 \t3     \t3.4\t3  \n",
      "73 \t2     \t6  \t3  \n",
      "74 \t4     \t5.4\t3  \n",
      "75 \t3     \t3  \t3  \n",
      "76 \t2     \t3  \t3  \n",
      "77 \t3     \t3.2\t3  \n",
      "78 \t3     \t3  \t3  \n",
      "79 \t2     \t3  \t3  \n",
      "80 \t4     \t3  \t3  \n",
      "81 \t4     \t3.8\t3  \n",
      "82 \t2     \t3  \t3  \n",
      "83 \t4     \t3.2\t3  \n",
      "84 \t3     \t3  \t3  \n",
      "85 \t3     \t4.6\t3  \n",
      "86 \t4     \t3  \t3  \n",
      "87 \t3     \t4  \t3  \n",
      "88 \t2     \t5.4\t3  \n",
      "89 \t3     \t3  \t3  \n",
      "90 \t4     \t3  \t3  \n",
      "91 \t4     \t5.4\t3  \n",
      "92 \t3     \t3.4\t3  \n",
      "93 \t5     \t3.8\t3  \n",
      "94 \t5     \t5  \t3  \n",
      "95 \t4     \t3.8\t3  \n",
      "96 \t3     \t4.2\t3  \n",
      "97 \t3     \t3.8\t3  \n",
      "98 \t4     \t5  \t3  \n",
      "99 \t4     \t5  \t3  \n",
      "100\t4     \t3.2\t3  \n"
     ]
    }
   ],
   "source": [
    "\n",
    "hof = tools.HallOfFame(1)\n",
    "\n",
    "pop, log = algorithms.eaSimple(pop, toolbox, cxpb=0.5, mutpb=0.5, ngen=100, stats=stats, halloffame=hof, verbose=True)\n",
    "\n",
    "\n",
    "\n",
    "\n",
    "\n",
    "\n",
    "\n",
    "\n",
    "\n",
    "\n"
   ]
  },
  {
   "cell_type": "markdown",
   "metadata": {
    "colab_type": "text",
    "id": "OkApdsjQVOUL"
   },
   "source": [
    "### Plot the \"avg\" and \"min\" for each generation"
   ]
  },
  {
   "cell_type": "code",
   "execution_count": 34,
   "metadata": {
    "colab": {
     "base_uri": "https://localhost:8080/",
     "height": 265
    },
    "colab_type": "code",
    "id": "gcFc3eOyVOUM",
    "outputId": "af4d39eb-636f-47ea-f5f8-4b6475d7c38c",
    "scrolled": true
   },
   "outputs": [
    {
     "data": {
      "image/png": "[encoded data removed]",
      "text/plain": [
       "<Figure size 432x288 with 1 Axes>"
      ]
     },
     "metadata": {
      "tags": []
     },
     "output_type": "display_data"
    }
   ],
   "source": [
    "import matplotlib.pyplot as plt\n",
    "%matplotlib inline  \n",
    "\n",
    "\n",
    "\n",
    "# print(log)\n",
    "# log.select('min')\n",
    "# log.select('avg')\n",
    "# print(pop)\n",
    "# print(stats)\n",
    "plt.plot(log.select('min'))\n",
    "plt.ylabel('min values')\n",
    "plt.show()\n"
   ]
  },
  {
   "cell_type": "code",
   "execution_count": 36,
   "metadata": {
    "colab": {
     "base_uri": "https://localhost:8080/",
     "height": 265
    },
    "colab_type": "code",
    "id": "on8XakIPzHfA",
    "outputId": "9a0937b3-d903-491a-f785-26a45a31c92a"
   },
   "outputs": [
    {
     "data": {
      "image/png": "[encoded data removed]",
      "text/plain": [
       "<Figure size 432x288 with 1 Axes>"
      ]
     },
     "metadata": {
      "tags": []
     },
     "output_type": "display_data"
    }
   ],
   "source": [
    "plt.plot(log.select('avg'))\n",
    "plt.ylabel('average values')\n",
    "plt.show()"
   ]
  },
  {
   "cell_type": "markdown",
   "metadata": {
    "colab_type": "text",
    "id": "t6PFTvUZVOUN"
   },
   "source": [
    "###  Print out the best individual found and its fitness value.  Show the best individual as chessboard"
   ]
  },
  {
   "cell_type": "code",
   "execution_count": 42,
   "metadata": {
    "colab": {
     "base_uri": "https://localhost:8080/",
     "height": 323
    },
    "colab_type": "code",
    "id": "-MeBQ0BZVOUO",
    "outputId": "bcaec1b8-282e-4ee3-fa16-6eae8b59718c"
   },
   "outputs": [
    {
     "name": "stdout",
     "output_type": "stream",
     "text": [
      "[49, 30, 34, 16, 0, 15, 45, 54]\n",
      "fitness value:  (3,)\n",
      "X|-|-|-|-|-|-|-|\n",
      "----------------\n",
      "-|-|-|-|-|-|-|X|\n",
      "----------------\n",
      "X|-|-|-|-|-|-|-|\n",
      "----------------\n",
      "-|-|-|-|-|-|X|-|\n",
      "----------------\n",
      "-|-|X|-|-|-|-|-|\n",
      "----------------\n",
      "-|-|-|-|-|X|-|-|\n",
      "----------------\n",
      "-|X|-|-|-|-|X|-|\n",
      "----------------\n",
      "-|-|-|-|-|-|-|-|\n",
      "----------------\n"
     ]
    }
   ],
   "source": [
    "\n",
    "\n",
    "print(pop[0])\n",
    "print(\"fitness value: \", evaFitness(pop[0]))\n",
    "show_grid(pop[0])\n",
    "\n",
    "\n",
    "\n",
    "\n",
    "\n",
    "\n",
    "\n",
    "\n",
    "\n"
   ]
  },
  {
   "cell_type": "markdown",
   "metadata": {
    "colab_type": "text",
    "id": "_PCJJdWAVOUP"
   },
   "source": [
    "## Row-index-based board representation"
   ]
  },
  {
   "cell_type": "code",
   "execution_count": 43,
   "metadata": {
    "colab": {
     "base_uri": "https://localhost:8080/",
     "height": 105
    },
    "colab_type": "code",
    "id": "BF0R7swEVOUQ",
    "outputId": "2215b5a3-3ff6-48e2-bf6a-e00ee8247f55"
   },
   "outputs": [
    {
     "name": "stderr",
     "output_type": "stream",
     "text": [
      "/usr/local/lib/python3.6/dist-packages/deap/creator.py:141: RuntimeWarning: A class named 'FitnessMin' has already been created and it will be overwritten. Consider deleting previous creation of that class or rename it.\n",
      "  RuntimeWarning)\n",
      "/usr/local/lib/python3.6/dist-packages/deap/creator.py:141: RuntimeWarning: A class named 'Individual' has already been created and it will be overwritten. Consider deleting previous creation of that class or rename it.\n",
      "  RuntimeWarning)\n"
     ]
    }
   ],
   "source": [
    "import random\n",
    "import numpy as np\n",
    "from deap import algorithms, base, creator, tools\n",
    "\n",
    "creator.create(\"FitnessMin\", base.Fitness, weights=(-1.0,))\n",
    "creator.create(\"Individual\", list, fitness=creator.FitnessMin)\n"
   ]
  },
  {
   "cell_type": "markdown",
   "metadata": {
    "colab_type": "text",
    "id": "YCwVbnHrVOUS"
   },
   "source": [
    "Each row of the chess row is indexed from 0->7 . we place different queens on different rows initially.  The sequence [ a b c d .... ] means that in $0^{th}$ row, $a^{th}$ column, the queen is present and so on"
   ]
  },
  {
   "cell_type": "code",
   "execution_count": 0,
   "metadata": {
    "colab": {},
    "colab_type": "code",
    "id": "n4II9oePVOUS"
   },
   "outputs": [],
   "source": [
    "toolbox = base.Toolbox()\n",
    "\n",
    "toolbox.register(\"attr_int\", random.randint, 0, 7)\n",
    "toolbox.register(\"individual\", tools.initRepeat, creator.Individual,\n",
    "                 toolbox.attr_int, n=8)"
   ]
  },
  {
   "cell_type": "code",
   "execution_count": 45,
   "metadata": {
    "colab": {
     "base_uri": "https://localhost:8080/",
     "height": 34
    },
    "colab_type": "code",
    "id": "W-tn8be2VOUU",
    "outputId": "95a49513-075d-4fb8-d556-2c6b26bbaf6e"
   },
   "outputs": [
    {
     "data": {
      "text/plain": [
       "[2, 6, 1, 1, 3, 4, 5, 3]"
      ]
     },
     "execution_count": 45,
     "metadata": {
      "tags": []
     },
     "output_type": "execute_result"
    }
   ],
   "source": [
    "toolbox.individual()"
   ]
  },
  {
   "cell_type": "code",
   "execution_count": 0,
   "metadata": {
    "colab": {},
    "colab_type": "code",
    "id": "97EqErd3VOUX"
   },
   "outputs": [],
   "source": [
    "def show_grid(board):\n",
    "    \n",
    "    n = [0]*64\n",
    "    \n",
    "    for i in range(len(board)):\n",
    "        n[board[i] + i*8] = 1\n",
    "      \n",
    "    \n",
    "    for i in range(8):\n",
    "        for j in range(64):\n",
    "            if j // 8 == i:\n",
    "                if n[j] == 1:\n",
    "                    print('X',end=\"|\")\n",
    "                else:\n",
    "                    print('-',end=\"|\")\n",
    "        print()\n",
    "        print(\"----------------\")\n",
    "\n",
    "\n"
   ]
  },
  {
   "cell_type": "code",
   "execution_count": 0,
   "metadata": {
    "colab": {},
    "colab_type": "code",
    "id": "UxkDfoxbVOUb"
   },
   "outputs": [],
   "source": [
    "toolbox.register(\"population\", tools.initRepeat, list, toolbox.individual)"
   ]
  },
  {
   "cell_type": "code",
   "execution_count": 48,
   "metadata": {
    "colab": {
     "base_uri": "https://localhost:8080/",
     "height": 34
    },
    "colab_type": "code",
    "id": "lcY06x24VOUe",
    "outputId": "eb0b36e8-d74c-4307-badb-9ed4c7674751"
   },
   "outputs": [
    {
     "name": "stdout",
     "output_type": "stream",
     "text": [
      "[1, 1, 4, 2, 6, 6, 1, 5]\n"
     ]
    }
   ],
   "source": [
    "pop = toolbox.population(n=5)\n",
    "\n",
    "print(pop[0])"
   ]
  },
  {
   "cell_type": "code",
   "execution_count": 49,
   "metadata": {
    "colab": {
     "base_uri": "https://localhost:8080/",
     "height": 289
    },
    "colab_type": "code",
    "id": "KYoqKKm8VOUg",
    "outputId": "55f6965a-b578-437f-a04b-70f838fabc5e"
   },
   "outputs": [
    {
     "name": "stdout",
     "output_type": "stream",
     "text": [
      "-|X|-|-|-|-|-|-|\n",
      "----------------\n",
      "-|X|-|-|-|-|-|-|\n",
      "----------------\n",
      "-|-|-|-|X|-|-|-|\n",
      "----------------\n",
      "-|-|X|-|-|-|-|-|\n",
      "----------------\n",
      "-|-|-|-|-|-|X|-|\n",
      "----------------\n",
      "-|-|-|-|-|-|X|-|\n",
      "----------------\n",
      "-|X|-|-|-|-|-|-|\n",
      "----------------\n",
      "-|-|-|-|-|X|-|-|\n",
      "----------------\n"
     ]
    }
   ],
   "source": [
    "show_grid(pop[0])"
   ]
  },
  {
   "cell_type": "markdown",
   "metadata": {
    "colab_type": "text",
    "id": "6_wZvS3mVOUh"
   },
   "source": [
    "### Return the fitness of any given board\n",
    "\n",
    "- evaFitness() returns the total number of distinct pairs of queens that attack each other.  \n",
    "\n"
   ]
  },
  {
   "cell_type": "code",
   "execution_count": 0,
   "metadata": {
    "colab": {},
    "colab_type": "code",
    "id": "bk1Rn57oVOUi"
   },
   "outputs": [],
   "source": [
    "#fitness function\n",
    "def evaFitness(individual):\n",
    "    conflict = 0\n",
    "    for i in range(len(individual)):\n",
    "      for j in range(i+1, len(individual)):\n",
    "        if(individual[i] == individual[j]):\n",
    "            conflict += 1\n",
    "        elif((((j-i)/(individual[i]-individual[j]))==1 or ((j-i)/(individual[i]-individual[j]))==-1)):\n",
    "            conflict += 1\n",
    "\n",
    "    \n",
    "    \n",
    "    return (conflict,)\n",
    "\n",
    "\n",
    "\n",
    "    \n",
    " \n",
    "    "
   ]
  },
  {
   "cell_type": "markdown",
   "metadata": {
    "colab_type": "text",
    "id": "MLkixA1YVOUj"
   },
   "source": [
    "### register \"evaluate\" function to toolbox"
   ]
  },
  {
   "cell_type": "code",
   "execution_count": 0,
   "metadata": {
    "colab": {},
    "colab_type": "code",
    "id": "TMwldAeuVOUk"
   },
   "outputs": [],
   "source": [
    "\n",
    "\n",
    "toolbox.register(\"evaluate\", evaFitness)\n",
    "\n",
    "\n",
    "\n",
    "\n",
    "\n"
   ]
  },
  {
   "cell_type": "code",
   "execution_count": 0,
   "metadata": {
    "colab": {},
    "colab_type": "code",
    "id": "O-xOKMI4VOUl"
   },
   "outputs": [],
   "source": [
    "\n",
    "toolbox.register(\"mate\", tools.cxTwoPoint)\n",
    "\n",
    "toolbox.register(\"mutate\", tools.mutUniformInt, low = 0, up = 7, indpb=0.1)\n",
    "\n",
    "toolbox.register(\"select\", tools.selTournament, tournsize=3)\n",
    "\n"
   ]
  },
  {
   "cell_type": "code",
   "execution_count": 0,
   "metadata": {
    "colab": {},
    "colab_type": "code",
    "id": "R1jlpMTNVOUn"
   },
   "outputs": [],
   "source": [
    "stats = tools.Statistics(key=lambda ind: ind.fitness.values)\n",
    "\n",
    "\n",
    "stats.register(\"avg\", np.mean)\n",
    "stats.register(\"min\", np.min)\n",
    "\n"
   ]
  },
  {
   "cell_type": "markdown",
   "metadata": {
    "colab_type": "text",
    "id": "pyRth-sHVOUq"
   },
   "source": [
    "###  create the first generation, the hall of fame, and launch the genetic algorithm: eaSimple().   Run the algorithm for 100 generations. "
   ]
  },
  {
   "cell_type": "code",
   "execution_count": 54,
   "metadata": {
    "colab": {
     "base_uri": "https://localhost:8080/",
     "height": 1000
    },
    "colab_type": "code",
    "id": "3aJJcDUVVOUq",
    "outputId": "c046214d-aff9-4721-bd6e-78c362a67b41"
   },
   "outputs": [
    {
     "name": "stdout",
     "output_type": "stream",
     "text": [
      "gen\tnevals\tavg\tmin\n",
      "0  \t5     \t7.2\t5  \n",
      "1  \t5     \t5.6\t5  \n",
      "2  \t3     \t5.6\t5  \n",
      "3  \t4     \t5.4\t5  \n",
      "4  \t3     \t4.8\t3  \n",
      "5  \t3     \t4  \t3  \n",
      "6  \t4     \t4  \t3  \n",
      "7  \t3     \t3.4\t3  \n",
      "8  \t3     \t3  \t3  \n",
      "9  \t3     \t3.4\t3  \n",
      "10 \t5     \t4  \t3  \n",
      "11 \t5     \t3.2\t3  \n",
      "12 \t4     \t3  \t3  \n",
      "13 \t3     \t4.2\t3  \n",
      "14 \t5     \t3.8\t3  \n",
      "15 \t2     \t3  \t3  \n",
      "16 \t4     \t3  \t3  \n",
      "17 \t2     \t3  \t3  \n",
      "18 \t1     \t3  \t3  \n",
      "19 \t4     \t3.2\t3  \n",
      "20 \t4     \t3.2\t3  \n",
      "21 \t4     \t3.2\t3  \n",
      "22 \t5     \t3.6\t3  \n",
      "23 \t4     \t4.4\t3  \n",
      "24 \t5     \t4.4\t3  \n",
      "25 \t4     \t4.4\t3  \n",
      "26 \t2     \t4  \t3  \n",
      "27 \t5     \t3.8\t3  \n",
      "28 \t4     \t3  \t3  \n",
      "29 \t4     \t3.4\t3  \n",
      "30 \t3     \t3.2\t3  \n",
      "31 \t5     \t3  \t3  \n",
      "32 \t5     \t3.6\t3  \n",
      "33 \t2     \t3.4\t3  \n",
      "34 \t2     \t3.4\t3  \n",
      "35 \t5     \t4.2\t3  \n",
      "36 \t4     \t3.4\t3  \n",
      "37 \t4     \t3.8\t3  \n",
      "38 \t3     \t3.2\t3  \n",
      "39 \t4     \t4.4\t3  \n",
      "40 \t4     \t3.6\t3  \n",
      "41 \t3     \t3.4\t3  \n",
      "42 \t4     \t3.4\t3  \n",
      "43 \t4     \t2.8\t2  \n",
      "44 \t4     \t3.2\t3  \n",
      "45 \t3     \t3.4\t3  \n",
      "46 \t5     \t5.8\t3  \n",
      "47 \t3     \t5.6\t3  \n",
      "48 \t3     \t4.2\t3  \n",
      "49 \t4     \t3.2\t3  \n",
      "50 \t2     \t3.4\t3  \n",
      "51 \t2     \t3.4\t3  \n",
      "52 \t5     \t3.4\t3  \n",
      "53 \t2     \t3  \t3  \n",
      "54 \t4     \t3.6\t3  \n",
      "55 \t3     \t4.4\t3  \n",
      "56 \t4     \t3  \t3  \n",
      "57 \t3     \t3.2\t3  \n",
      "58 \t2     \t3  \t3  \n",
      "59 \t1     \t3  \t3  \n",
      "60 \t3     \t3.4\t3  \n",
      "61 \t5     \t3.2\t3  \n",
      "62 \t4     \t3.2\t3  \n",
      "63 \t2     \t3.2\t3  \n",
      "64 \t4     \t3.4\t3  \n",
      "65 \t5     \t4.8\t3  \n",
      "66 \t4     \t3.8\t3  \n",
      "67 \t5     \t3.6\t1  \n",
      "68 \t1     \t1.2\t1  \n",
      "69 \t3     \t1  \t1  \n",
      "70 \t5     \t1.4\t1  \n",
      "71 \t3     \t2.6\t1  \n",
      "72 \t5     \t3.2\t1  \n",
      "73 \t3     \t1.4\t1  \n",
      "74 \t3     \t1  \t1  \n",
      "75 \t1     \t1  \t1  \n",
      "76 \t4     \t1.4\t1  \n",
      "77 \t4     \t2.4\t1  \n",
      "78 \t4     \t1  \t1  \n",
      "79 \t3     \t3.2\t1  \n",
      "80 \t4     \t1.2\t1  \n",
      "81 \t4     \t1.6\t1  \n",
      "82 \t5     \t2.2\t1  \n",
      "83 \t2     \t1.4\t1  \n",
      "84 \t2     \t1.4\t1  \n",
      "85 \t5     \t1  \t1  \n",
      "86 \t3     \t1.6\t1  \n",
      "87 \t4     \t2.4\t1  \n",
      "88 \t4     \t2  \t1  \n",
      "89 \t5     \t1.6\t1  \n",
      "90 \t4     \t1.6\t1  \n",
      "91 \t3     \t2.4\t1  \n",
      "92 \t5     \t3.2\t1  \n",
      "93 \t4     \t2.6\t1  \n",
      "94 \t3     \t1.6\t1  \n",
      "95 \t4     \t1.8\t1  \n",
      "96 \t5     \t1  \t1  \n",
      "97 \t4     \t2.6\t1  \n",
      "98 \t4     \t2.4\t1  \n",
      "99 \t3     \t1.6\t1  \n",
      "100\t5     \t1.8\t1  \n"
     ]
    }
   ],
   "source": [
    "\n",
    "\n",
    "\n",
    "\n",
    "\n",
    "hof = tools.HallOfFame(1)\n",
    "\n",
    "pop, log = algorithms.eaSimple(pop, toolbox, cxpb=0.5, mutpb=0.5, ngen=100, stats=stats, halloffame=hof, verbose=True)\n",
    "\n",
    "\n",
    "\n",
    "\n",
    "\n",
    "\n",
    "\n",
    "\n",
    "\n",
    "\n",
    "\n",
    "\n"
   ]
  },
  {
   "cell_type": "markdown",
   "metadata": {
    "colab_type": "text",
    "id": "xrJfr0ePVOUs"
   },
   "source": [
    "### 5 pts:  Plot the \"avg\" and \"min\" for each generation"
   ]
  },
  {
   "cell_type": "code",
   "execution_count": 55,
   "metadata": {
    "colab": {
     "base_uri": "https://localhost:8080/",
     "height": 265
    },
    "colab_type": "code",
    "id": "LJyAUq4WVOUs",
    "outputId": "ea773827-52ed-4c9b-8727-c59a4793d606"
   },
   "outputs": [
    {
     "data": {
      "image/png": "[encoded data removed]",
      "text/plain": [
       "<Figure size 432x288 with 1 Axes>"
      ]
     },
     "metadata": {
      "tags": []
     },
     "output_type": "display_data"
    }
   ],
   "source": [
    "# Plot the \"avg\" and \"min\" for each generation\n",
    "\n",
    "import matplotlib.pyplot as plt\n",
    "%matplotlib inline  \n",
    "\n",
    "\n",
    "\n",
    "plt.plot(log.select('min'))\n",
    "plt.ylabel('min values')\n",
    "plt.show()\n",
    "\n",
    "\n",
    "\n",
    "\n"
   ]
  },
  {
   "cell_type": "code",
   "execution_count": 56,
   "metadata": {
    "colab": {
     "base_uri": "https://localhost:8080/",
     "height": 265
    },
    "colab_type": "code",
    "id": "QAnb5lbe0a_S",
    "outputId": "81b4bed3-e2ad-4a29-c763-f825f8c2e85d"
   },
   "outputs": [
    {
     "data": {
      "image/png": "[encoded data removed]",
      "text/plain": [
       "<Figure size 432x288 with 1 Axes>"
      ]
     },
     "metadata": {
      "tags": []
     },
     "output_type": "display_data"
    }
   ],
   "source": [
    "plt.plot(log.select('avg'))\n",
    "plt.ylabel('average values')\n",
    "plt.show()"
   ]
  },
  {
   "cell_type": "markdown",
   "metadata": {
    "colab_type": "text",
    "id": "ry6HXqIMVOUv"
   },
   "source": [
    "###  Print out the best individual found and its fitness value.  Show the best individual as chessboard"
   ]
  },
  {
   "cell_type": "code",
   "execution_count": 57,
   "metadata": {
    "colab": {
     "base_uri": "https://localhost:8080/",
     "height": 323
    },
    "colab_type": "code",
    "id": "PkC9uOqCVOUv",
    "outputId": "540d3f5b-f6ea-4af4-c464-470f9553470e"
   },
   "outputs": [
    {
     "name": "stdout",
     "output_type": "stream",
     "text": [
      "[5, 3, 6, 0, 3, 1, 7, 2]\n",
      "fitness value:  (1,)\n",
      "-|-|-|-|-|X|-|-|\n",
      "----------------\n",
      "-|-|-|X|-|-|-|-|\n",
      "----------------\n",
      "-|-|-|-|-|-|X|-|\n",
      "----------------\n",
      "X|-|-|-|-|-|-|-|\n",
      "----------------\n",
      "-|-|-|X|-|-|-|-|\n",
      "----------------\n",
      "-|X|-|-|-|-|-|-|\n",
      "----------------\n",
      "-|-|-|-|-|-|-|X|\n",
      "----------------\n",
      "-|-|X|-|-|-|-|-|\n",
      "----------------\n"
     ]
    }
   ],
   "source": [
    "\n",
    "\n",
    "\n",
    "\n",
    "print(pop[0])\n",
    "print(\"fitness value: \", evaFitness(pop[0]))\n",
    "show_grid(pop[0])\n",
    "\n",
    "\n",
    "\n",
    "\n",
    "\n",
    "\n",
    "\n",
    "\n",
    "\n",
    "\n",
    "\n"
   ]
  },
  {
   "cell_type": "markdown",
   "metadata": {
    "colab_type": "text",
    "id": "qhba2jQ1VOUw"
   },
   "source": [
    "\n"
   ]
  },
  {
   "cell_type": "code",
   "execution_count": 0,
   "metadata": {
    "colab": {},
    "colab_type": "code",
    "id": "eOF9Z7dmiQp6"
   },
   "outputs": [],
   "source": []
  }
 ],
 "metadata": {
  "colab": {
   "collapsed_sections": [],
   "name": "DEAP_n_queens_on_canvas.ipynb",
   "provenance": [],
   "toc_visible": true
  },
  "kernelspec": {
   "display_name": "Python 3",
   "language": "python",
   "name": "python3"
  },
  "language_info": {
   "codemirror_mode": {
    "name": "ipython",
    "version": 3
   },
   "file_extension": ".py",
   "mimetype": "text/x-python",
   "name": "python",
   "nbconvert_exporter": "python",
   "pygments_lexer": "ipython3",
   "version": "3.8.2"
  }
 },
 "nbformat": 4,
 "nbformat_minor": 1
}
